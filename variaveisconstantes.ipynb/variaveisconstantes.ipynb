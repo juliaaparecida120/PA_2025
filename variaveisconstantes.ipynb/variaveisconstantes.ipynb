{
  "nbformat": 4,
  "nbformat_minor": 0,
  "metadata": {
    "colab": {
      "provenance": [],
      "authorship_tag": "ABX9TyO9YMA2eZUnf72QXuBl5IMT",
      "include_colab_link": true
    },
    "kernelspec": {
      "name": "python3",
      "display_name": "Python 3"
    },
    "language_info": {
      "name": "python"
    }
  },
  "cells": [
    {
      "cell_type": "markdown",
      "metadata": {
        "id": "view-in-github",
        "colab_type": "text"
      },
      "source": [
        "<a href=\"https://colab.research.google.com/github/juliaaparecida120/PA_2025/blob/main/variaveisconstantes.ipynb/variaveisconstantes.ipynb\" target=\"_parent\"><img src=\"https://colab.research.google.com/assets/colab-badge.svg\" alt=\"Open In Colab\"/></a>"
      ]
    },
    {
      "cell_type": "code",
      "execution_count": null,
      "metadata": {
        "id": "bVeOnPEogBAU"
      },
      "outputs": [],
      "source": []
    },
    {
      "cell_type": "markdown",
      "source": [
        "#variaveis e constantes"
      ],
      "metadata": {
        "id": "EYCkqOtygSHJ"
      }
    },
    {
      "cell_type": "code",
      "source": [
        "idade = 15\n",
        "altura = 1.66\n",
        "nome = \"julia aparecida\"\n",
        "vai = True"
      ],
      "metadata": {
        "id": "Oa49_MQ0gpNj"
      },
      "execution_count": null,
      "outputs": []
    },
    {
      "cell_type": "code",
      "source": [
        "nomes = [\"julia aparecida\", \"emilly\", \"guilherme\" ]\n",
        "nomes2 = (\"julia aparecida\", \"emilly\", \"guilherme\")\n",
        "# tudo = {nome:\"julia aparecida\", idade:15, altura:1.66, vai:True}"
      ],
      "metadata": {
        "id": "7To05zQuiZYZ"
      },
      "execution_count": null,
      "outputs": []
    },
    {
      "cell_type": "code",
      "source": [
        "print (nome)\n",
        "print (nomes)\n",
        "print (nomes2)\n",
        "\n"
      ],
      "metadata": {
        "colab": {
          "base_uri": "https://localhost:8080/"
        },
        "id": "imWtRq_EjUlf",
        "outputId": "c9c4a1f0-4789-4dcd-ea8a-798d775c5d04"
      },
      "execution_count": null,
      "outputs": [
        {
          "output_type": "stream",
          "name": "stdout",
          "text": [
            "julia aparecida\n",
            "['julia aparecida', 'emilly', 'guilherme']\n",
            "('julia aparecida', 'emilly', 'guilherme')\n"
          ]
        }
      ]
    },
    {
      "cell_type": "code",
      "source": [
        "print (type(idade))\n",
        "print (type(altura))\n",
        "print (type(vai))\n",
        "print (type(nome))\n",
        "print (type(nomes))\n",
        "print (type(nomes2))\n",
        "\n"
      ],
      "metadata": {
        "colab": {
          "base_uri": "https://localhost:8080/"
        },
        "id": "yif3ee6EkLDS",
        "outputId": "7c607645-d305-4e74-c489-ab8a13d3c902"
      },
      "execution_count": null,
      "outputs": [
        {
          "output_type": "stream",
          "name": "stdout",
          "text": [
            "<class 'int'>\n",
            "<class 'float'>\n",
            "<class 'bool'>\n",
            "<class 'str'>\n",
            "<class 'list'>\n",
            "<class 'tuple'>\n"
          ]
        }
      ]
    },
    {
      "cell_type": "code",
      "source": [
        "print(\"o nome dela é:\", nome, \",sua idade é:\", idade, \",ela tem\", altura, \"metro\")"
      ],
      "metadata": {
        "colab": {
          "base_uri": "https://localhost:8080/"
        },
        "id": "fWFH5elRpQkQ",
        "outputId": "ae62ed08-89ff-4b16-e191-6aecbec46a9d"
      },
      "execution_count": null,
      "outputs": [
        {
          "output_type": "stream",
          "name": "stdout",
          "text": [
            "o nome dela é: julia aparecida ,sua idade é: 15 ,ela tem 1.66 metro\n"
          ]
        }
      ]
    },
    {
      "cell_type": "markdown",
      "source": [
        "area do circulo"
      ],
      "metadata": {
        "id": "8YeIfqSmycIm"
      }
    },
    {
      "cell_type": "code",
      "source": [
        " PI = 3.14159\n",
        " raio = float(input(\"digite a area do circulo: \"))"
      ],
      "metadata": {
        "colab": {
          "base_uri": "https://localhost:8080/"
        },
        "id": "4Q3r40RDwe5i",
        "outputId": "15a64a8c-4e6a-4491-9d62-9efb58952dcf"
      },
      "execution_count": null,
      "outputs": [
        {
          "name": "stdout",
          "output_type": "stream",
          "text": [
            "digite a area do circulo: 05\n"
          ]
        }
      ]
    },
    {
      "cell_type": "code",
      "source": [
        "areacir = PI *(raio**2)"
      ],
      "metadata": {
        "id": "0iRXOjzHy5La"
      },
      "execution_count": null,
      "outputs": []
    },
    {
      "cell_type": "code",
      "source": [
        "print(f\"a area do circulo é {areacir}\")"
      ],
      "metadata": {
        "colab": {
          "base_uri": "https://localhost:8080/"
        },
        "id": "EyHGHALzzPe4",
        "outputId": "8c9ee3b7-9637-49e2-c260-04b5c53fab59"
      },
      "execution_count": null,
      "outputs": [
        {
          "output_type": "stream",
          "name": "stdout",
          "text": [
            "a area do circulo é 78.53975\n"
          ]
        }
      ]
    },
    {
      "cell_type": "code",
      "source": [
        "lado = float(input(\"digite o valor do lado do quadrado\"))"
      ],
      "metadata": {
        "colab": {
          "base_uri": "https://localhost:8080/"
        },
        "id": "KAWK2mf12iw_",
        "outputId": "619ac6ba-4494-457c-8dde-0eec37f4bb93"
      },
      "execution_count": null,
      "outputs": [
        {
          "name": "stdout",
          "output_type": "stream",
          "text": [
            "digite o valor do lado do quadrado05\n"
          ]
        }
      ]
    },
    {
      "cell_type": "code",
      "source": [
        "areaqua = lado **2"
      ],
      "metadata": {
        "id": "f5JfCrrk3jWz"
      },
      "execution_count": null,
      "outputs": []
    },
    {
      "cell_type": "code",
      "source": [],
      "metadata": {
        "id": "q0nMP2KSqfnh"
      },
      "execution_count": null,
      "outputs": []
    },
    {
      "cell_type": "markdown",
      "source": [
        "#exercisios"
      ],
      "metadata": {
        "id": "Tzyi6atKqxFR"
      }
    },
    {
      "cell_type": "markdown",
      "source": [
        "##Exercícios para aplicar uso de variáveis e constantes\n",
        "\n",
        "Exercício 1 - Área do Retângulo"
      ],
      "metadata": {
        "id": "GmCFvDsOqz3J"
      }
    },
    {
      "cell_type": "code",
      "source": [
        "base = float(input(\"base é igual a:\"))\n",
        "altura = float(input(\"a altura é igual a:\"))\n"
      ],
      "metadata": {
        "colab": {
          "base_uri": "https://localhost:8080/"
        },
        "id": "DTl4b8s1ruRC",
        "outputId": "456fa855-385a-471c-c3d1-ba9847b468b9"
      },
      "execution_count": 3,
      "outputs": [
        {
          "name": "stdout",
          "output_type": "stream",
          "text": [
            "base é igual a:10\n",
            "a altura é igual a:20\n"
          ]
        }
      ]
    },
    {
      "cell_type": "code",
      "source": [
        "area =  base*altura\n",
        "print (\"A área do retangulo é: \", area)"
      ],
      "metadata": {
        "colab": {
          "base_uri": "https://localhost:8080/"
        },
        "id": "RE4K0nLVs3U0",
        "outputId": "6ff9c6eb-bcec-42f1-f303-851e0791458a"
      },
      "execution_count": 4,
      "outputs": [
        {
          "output_type": "stream",
          "name": "stdout",
          "text": [
            "A área do retangulo é:  200.0\n"
          ]
        }
      ]
    },
    {
      "cell_type": "markdown",
      "source": [
        "Exercício 2 – Perímetro do Círculo"
      ],
      "metadata": {
        "id": "zaFc-703vmm5"
      }
    },
    {
      "cell_type": "code",
      "source": [
        "PI = 3.1416\n",
        "raio = float(input(\"digite o raio\"))"
      ],
      "metadata": {
        "colab": {
          "base_uri": "https://localhost:8080/"
        },
        "id": "xqQ0gvW-vwEB",
        "outputId": "93abfcc3-3b45-4ac2-9f4b-3ca0bfbd7d02"
      },
      "execution_count": 7,
      "outputs": [
        {
          "name": "stdout",
          "output_type": "stream",
          "text": [
            "digite o raio10\n"
          ]
        }
      ]
    },
    {
      "cell_type": "code",
      "source": [
        "perimetro = 2 * PI * raio\n",
        "print(\" o perimetro do circulo é:\", perimetro)"
      ],
      "metadata": {
        "colab": {
          "base_uri": "https://localhost:8080/"
        },
        "id": "qQmjXTbgw_Xp",
        "outputId": "d1bf7491-4c4f-479a-e4ee-97c006fb8c45"
      },
      "execution_count": 9,
      "outputs": [
        {
          "output_type": "stream",
          "name": "stdout",
          "text": [
            " o perimetro do circulo é: 62.832\n"
          ]
        }
      ]
    },
    {
      "cell_type": "markdown",
      "source": [
        "Exercício 3 – Conversão de Temperatura"
      ],
      "metadata": {
        "id": "iPj-GEE2xqxS"
      }
    },
    {
      "cell_type": "code",
      "source": [
        " fahrenheit =  float(input(\"digite a temperatura em fahrenheit:\"))\n",
        " celsius = (fahrenheit - 32) * 5/9\n",
        " print(f\"A temperatura atual em celsius é: {celsius}\")"
      ],
      "metadata": {
        "colab": {
          "base_uri": "https://localhost:8080/"
        },
        "id": "kyO_jSiZxvNA",
        "outputId": "4f7d3248-38d2-4850-e278-2ed5dd0b8a47"
      },
      "execution_count": 17,
      "outputs": [
        {
          "output_type": "stream",
          "name": "stdout",
          "text": [
            "digite a temperatura em fahrenheit:25\n",
            "A temperatura atual em celsius é: -3.888888888888889\n"
          ]
        }
      ]
    },
    {
      "cell_type": "markdown",
      "source": [
        "Exercício 4 – Cálculo do IMC"
      ],
      "metadata": {
        "id": "IyXkn35N2jvD"
      }
    },
    {
      "cell_type": "code",
      "source": [
        "peso = float(input(\"digite seu peso:\"))\n",
        "altura = float(input(\"digite sua altura:\"))\n",
        "IMC = peso / altura**2\n",
        "print(f\"seu IMC é :{IMC}\")\n",
        "\n",
        "\n",
        "\n"
      ],
      "metadata": {
        "colab": {
          "base_uri": "https://localhost:8080/"
        },
        "id": "PjtolOzM2ngA",
        "outputId": "39972442-4250-4a19-8b0f-1568e277e79b"
      },
      "execution_count": 34,
      "outputs": [
        {
          "output_type": "stream",
          "name": "stdout",
          "text": [
            "digite seu peso:55\n",
            "digite sua altura:1.66\n",
            "seu IMC é :19.959355494266223\n"
          ]
        }
      ]
    }
  ]
}