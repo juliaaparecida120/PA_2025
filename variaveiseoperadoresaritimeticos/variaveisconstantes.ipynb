{
  "nbformat": 4,
  "nbformat_minor": 0,
  "metadata": {
    "colab": {
      "provenance": [],
      "authorship_tag": "ABX9TyOnVxqCbmkKxZTKApgchEeG",
      "include_colab_link": true
    },
    "kernelspec": {
      "name": "python3",
      "display_name": "Python 3"
    },
    "language_info": {
      "name": "python"
    }
  },
  "cells": [
    {
      "cell_type": "markdown",
      "metadata": {
        "id": "view-in-github",
        "colab_type": "text"
      },
      "source": [
        "<a href=\"https://colab.research.google.com/github/juliaaparecida120/PA_2025/blob/main/variaveiseoperadoresaritimeticos/variaveisconstantes.ipynb\" target=\"_parent\"><img src=\"https://colab.research.google.com/assets/colab-badge.svg\" alt=\"Open In Colab\"/></a>"
      ]
    },
    {
      "cell_type": "code",
      "execution_count": null,
      "metadata": {
        "id": "bVeOnPEogBAU"
      },
      "outputs": [],
      "source": []
    },
    {
      "cell_type": "markdown",
      "source": [
        "#variaveis e constantes"
      ],
      "metadata": {
        "id": "EYCkqOtygSHJ"
      }
    },
    {
      "cell_type": "code",
      "source": [
        "idade = 15\n",
        "altura = 1.66\n",
        "nome = \"julia aparecida\"\n",
        "vai = True"
      ],
      "metadata": {
        "id": "Oa49_MQ0gpNj"
      },
      "execution_count": null,
      "outputs": []
    },
    {
      "cell_type": "code",
      "source": [
        "nomes = [\"julia aparecida\", \"emilly\", \"guilherme\" ]\n",
        "nomes2 = (\"julia aparecida\", \"emilly\", \"guilherme\")\n",
        "# tudo = {nome:\"julia aparecida\", idade:15, altura:1.66, vai:True}"
      ],
      "metadata": {
        "id": "7To05zQuiZYZ"
      },
      "execution_count": null,
      "outputs": []
    },
    {
      "cell_type": "code",
      "source": [
        "print (nome)\n",
        "print (nomes)\n",
        "print (nomes2)\n",
        "\n"
      ],
      "metadata": {
        "colab": {
          "base_uri": "https://localhost:8080/"
        },
        "id": "imWtRq_EjUlf",
        "outputId": "c9c4a1f0-4789-4dcd-ea8a-798d775c5d04"
      },
      "execution_count": null,
      "outputs": [
        {
          "output_type": "stream",
          "name": "stdout",
          "text": [
            "julia aparecida\n",
            "['julia aparecida', 'emilly', 'guilherme']\n",
            "('julia aparecida', 'emilly', 'guilherme')\n"
          ]
        }
      ]
    },
    {
      "cell_type": "code",
      "source": [
        "print (type(idade))\n",
        "print (type(altura))\n",
        "print (type(vai))\n",
        "print (type(nome))\n",
        "print (type(nomes))\n",
        "print (type(nomes2))\n",
        "\n"
      ],
      "metadata": {
        "colab": {
          "base_uri": "https://localhost:8080/"
        },
        "id": "yif3ee6EkLDS",
        "outputId": "7c607645-d305-4e74-c489-ab8a13d3c902"
      },
      "execution_count": null,
      "outputs": [
        {
          "output_type": "stream",
          "name": "stdout",
          "text": [
            "<class 'int'>\n",
            "<class 'float'>\n",
            "<class 'bool'>\n",
            "<class 'str'>\n",
            "<class 'list'>\n",
            "<class 'tuple'>\n"
          ]
        }
      ]
    },
    {
      "cell_type": "code",
      "source": [
        "print(\"o nome dela é:\", nome, \",sua idade é:\", idade, \",ela tem\", altura, \"metro\")"
      ],
      "metadata": {
        "colab": {
          "base_uri": "https://localhost:8080/"
        },
        "id": "fWFH5elRpQkQ",
        "outputId": "ae62ed08-89ff-4b16-e191-6aecbec46a9d"
      },
      "execution_count": null,
      "outputs": [
        {
          "output_type": "stream",
          "name": "stdout",
          "text": [
            "o nome dela é: julia aparecida ,sua idade é: 15 ,ela tem 1.66 metro\n"
          ]
        }
      ]
    },
    {
      "cell_type": "markdown",
      "source": [
        "area do circulo"
      ],
      "metadata": {
        "id": "8YeIfqSmycIm"
      }
    },
    {
      "cell_type": "code",
      "source": [
        " PI = 3.14159\n",
        " raio = float(input(\"digite a area do circulo: \"))"
      ],
      "metadata": {
        "colab": {
          "base_uri": "https://localhost:8080/"
        },
        "id": "4Q3r40RDwe5i",
        "outputId": "15a64a8c-4e6a-4491-9d62-9efb58952dcf"
      },
      "execution_count": null,
      "outputs": [
        {
          "name": "stdout",
          "output_type": "stream",
          "text": [
            "digite a area do circulo: 05\n"
          ]
        }
      ]
    },
    {
      "cell_type": "code",
      "source": [
        "areacir = PI *(raio**2)"
      ],
      "metadata": {
        "id": "0iRXOjzHy5La"
      },
      "execution_count": null,
      "outputs": []
    },
    {
      "cell_type": "code",
      "source": [
        "print(f\"a area do circulo é {areacir}\")"
      ],
      "metadata": {
        "colab": {
          "base_uri": "https://localhost:8080/"
        },
        "id": "EyHGHALzzPe4",
        "outputId": "8c9ee3b7-9637-49e2-c260-04b5c53fab59"
      },
      "execution_count": null,
      "outputs": [
        {
          "output_type": "stream",
          "name": "stdout",
          "text": [
            "a area do circulo é 78.53975\n"
          ]
        }
      ]
    },
    {
      "cell_type": "code",
      "source": [
        "lado = float(input(\"digite o valor do lado do quadrado\"))"
      ],
      "metadata": {
        "colab": {
          "base_uri": "https://localhost:8080/"
        },
        "id": "KAWK2mf12iw_",
        "outputId": "619ac6ba-4494-457c-8dde-0eec37f4bb93"
      },
      "execution_count": null,
      "outputs": [
        {
          "name": "stdout",
          "output_type": "stream",
          "text": [
            "digite o valor do lado do quadrado05\n"
          ]
        }
      ]
    },
    {
      "cell_type": "code",
      "source": [
        "areaqua = lado **2"
      ],
      "metadata": {
        "id": "f5JfCrrk3jWz"
      },
      "execution_count": null,
      "outputs": []
    },
    {
      "cell_type": "code",
      "source": [
        "print(f\"a area do quadrado é\")"
      ],
      "metadata": {
        "id": "s3HswdmA3yxj"
      },
      "execution_count": null,
      "outputs": []
    }
  ]
}